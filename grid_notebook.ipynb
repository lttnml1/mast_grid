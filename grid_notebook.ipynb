{
 "cells": [
  {
   "cell_type": "code",
   "execution_count": 1,
   "metadata": {},
   "outputs": [],
   "source": [
    "#NATIVE PYTHON IMPORTS\n",
    "import json\n",
    "\n",
    "#INSTALLED PACKAGE IMPORTS\n",
    "from geopy.point import Point\n",
    "from shapely import Polygon\n",
    "from shapely import Point as ShapelyPoint\n",
    "\n",
    "#IMPORTS FROM THIS PACAKGE\n",
    "from grid_src.grid import Grid"
   ]
  },
  {
   "cell_type": "code",
   "execution_count": 2,
   "metadata": {},
   "outputs": [],
   "source": [
    "experiment_file = \"/home/mlitton/Downloads/MAST2.14/CLOX_experiments/experiment_MLL.json\"\n",
    "\n",
    "#The purpose of this directory is when you get a new experiment file (that may have new blue waypoints/positions), you want to make sure\n",
    "#   that the blue positions at 30-minute intervals are what you expect (because these are extracted from a single run of MAST with BION in-the-loop)\n",
    "#   since Java needs to know the ACTUAL path of the Virtual Leader prior to executing CE\n",
    "#So, put the path to the results with BION in the loop here - the Grid constructor will tell you if there's any difference.\n",
    "new_results_dir = \"/home/mlitton/MAST_Project/CE_for_Doug_Horner_V4/CE_for_Doug_Horner/outputs/bion_results_2024-01-29_04:35\""
   ]
  },
  {
   "cell_type": "code",
   "execution_count": 3,
   "metadata": {},
   "outputs": [],
   "source": [
    "grid = Grid(experiment_file, new_results_dir, grid_height=200, grid_width=200, print_stats=False)\n"
   ]
  },
  {
   "cell_type": "code",
   "execution_count": 4,
   "metadata": {},
   "outputs": [],
   "source": [
    "#grid.plot()"
   ]
  },
  {
   "cell_type": "code",
   "execution_count": 5,
   "metadata": {},
   "outputs": [],
   "source": [
    "grid.write_grid_to_file(\"grid_output.txt\")"
   ]
  }
 ],
 "metadata": {
  "kernelspec": {
   "display_name": "bion_analysis",
   "language": "python",
   "name": "python3"
  },
  "language_info": {
   "codemirror_mode": {
    "name": "ipython",
    "version": 3
   },
   "file_extension": ".py",
   "mimetype": "text/x-python",
   "name": "python",
   "nbconvert_exporter": "python",
   "pygments_lexer": "ipython3",
   "version": "3.12.0"
  }
 },
 "nbformat": 4,
 "nbformat_minor": 2
}
