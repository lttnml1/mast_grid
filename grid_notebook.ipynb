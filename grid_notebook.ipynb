{
 "cells": [
  {
   "cell_type": "code",
   "execution_count": null,
   "metadata": {},
   "outputs": [],
   "source": [
    "#NATIVE PYTHON IMPORTS\n",
    "\n",
    "#INSTALLED PACKAGE IMPORTS\n",
    "from geopy.point import Point\n",
    "\n",
    "#IMPORTS FROM THIS PACAKGE\n",
    "from grid_src.grid import Grid"
   ]
  },
  {
   "cell_type": "code",
   "execution_count": null,
   "metadata": {},
   "outputs": [],
   "source": [
    "file = \"/home/mlitton/Downloads/MAST2.14/CLOX_experiments/experiment_MLL.json\""
   ]
  },
  {
   "cell_type": "code",
   "execution_count": null,
   "metadata": {},
   "outputs": [],
   "source": [
    "grid = Grid(file, grid_height=50, grid_width=50)\n",
    "grid.plot()"
   ]
  },
  {
   "cell_type": "code",
   "execution_count": null,
   "metadata": {},
   "outputs": [],
   "source": [
    "print(grid.cell_height,grid.cell_width)"
   ]
  }
 ],
 "metadata": {
  "kernelspec": {
   "display_name": "bion_analysis",
   "language": "python",
   "name": "python3"
  },
  "language_info": {
   "codemirror_mode": {
    "name": "ipython",
    "version": 3
   },
   "file_extension": ".py",
   "mimetype": "text/x-python",
   "name": "python",
   "nbconvert_exporter": "python",
   "pygments_lexer": "ipython3",
   "version": "3.12.0"
  }
 },
 "nbformat": 4,
 "nbformat_minor": 2
}
